{
  "cells": [
    {
      "cell_type": "code",
      "execution_count": null,
      "metadata": {
        "colab": {
          "base_uri": "https://localhost:8080/"
        },
        "id": "luJym7At0Vh9",
        "outputId": "ffbff7e1-0468-47d5-a05d-d2addef3c99a"
      },
      "outputs": [
        {
          "name": "stdout",
          "output_type": "stream",
          "text": [
            "Mounted at /content/drive/\n"
          ]
        }
      ],
      "source": [
        "from google.colab import drive\n",
        "drive.mount('/content/drive/')"
      ]
    },
    {
      "cell_type": "code",
      "execution_count": null,
      "metadata": {
        "id": "vKk--Ayu0ai-"
      },
      "outputs": [],
      "source": [
        "from __future__ import print_function\n",
        "import numpy as np\n",
        "from keras import layers, backend\n",
        "from keras.layers import Input, Add, Dense, Activation, ZeroPadding2D, BatchNormalization, Flatten, Conv2D, AveragePooling2D, MaxPooling2D, GlobalMaxPooling2D, GlobalAveragePooling2D\n",
        "from keras.models import Model, load_model\n",
        "from keras.preprocessing import image\n",
        "from keras.utils import layer_utils\n",
        "from keras import utils as np_utils\n",
        "from keras.utils.data_utils import get_file\n",
        "from keras.applications.imagenet_utils import preprocess_input\n",
        "import pydot\n",
        "from IPython.display import SVG\n",
        "from keras.utils.vis_utils import model_to_dot\n",
        "from keras.utils.vis_utils import plot_model\n",
        "from keras.initializers import glorot_uniform \n",
        "import scipy.misc\n",
        "from matplotlib.pyplot import imshow\n",
        "from keras.initializers import glorot_uniform\n",
        "from tensorflow import keras\n",
        "from keras.applications import imagenet_utils\n",
        "import tensorflow as tf\n",
        "\n",
        "from sklearn.model_selection import train_test_split\n",
        "import numpy as np\n",
        "\n",
        "from functools import reduce\n",
        "from PIL import Image, ImageStat\n",
        "import os\n",
        "import cv2"
      ]
    },
    {
      "cell_type": "code",
      "execution_count": null,
      "metadata": {
        "colab": {
          "base_uri": "https://localhost:8080/"
        },
        "id": "d1XlqA3-0ali",
        "outputId": "6dc7bc3d-a6a6-4db1-d8aa-645ac7d25376"
      },
      "outputs": [
        {
          "name": "stdout",
          "output_type": "stream",
          "text": [
            "Looking in indexes: https://pypi.org/simple, https://us-python.pkg.dev/colab-wheels/public/simple/\n",
            "Requirement already satisfied: keras in /usr/local/lib/python3.7/dist-packages (2.8.0)\n"
          ]
        }
      ],
      "source": [
        "import tensorflow as tf\n",
        "tf.__version__\n",
        "\n",
        "!sudo pip3 install keras"
      ]
    },
    {
      "cell_type": "code",
      "execution_count": null,
      "metadata": {
        "id": "Q0b5iCzq0anf"
      },
      "outputs": [],
      "source": [
        "from tensorflow.keras.layers import Layer, InputSpec"
      ]
    },
    {
      "cell_type": "code",
      "execution_count": null,
      "metadata": {
        "id": "Wg4pELFu0aqM"
      },
      "outputs": [],
      "source": [
        "def Otsus_Binarization(folder,target):\n",
        "    images = []\n",
        "    for filename in os.listdir(folder):\n",
        "        img = cv2.imread(os.path.join(folder,filename),0)\n",
        "        #ret2,th2 = cv2.threshold(img,0,255,cv2.THRESH_BINARY+cv2.THRESH_OTSU)\n",
        "        if img is not None:\n",
        "            images.append([img,target])\n",
        "    return images"
      ]
    },
    {
      "cell_type": "code",
      "execution_count": null,
      "metadata": {
        "id": "7z4RQQHB0asf"
      },
      "outputs": [],
      "source": [
        "tubercolosis = Otsus_Binarization('/content/drive/MyDrive/customxray/Infected/',0)"
      ]
    },
    {
      "cell_type": "code",
      "execution_count": null,
      "metadata": {
        "id": "ruQVJPgn0avG"
      },
      "outputs": [],
      "source": [
        "tb = Otsus_Binarization('/content/drive/MyDrive/customxray/Normal/',1)"
      ]
    },
    {
      "cell_type": "code",
      "execution_count": null,
      "metadata": {
        "id": "QUyNW-3T0axb"
      },
      "outputs": [],
      "source": [
        "tubercolosis.extend(tb)"
      ]
    },
    {
      "cell_type": "code",
      "execution_count": null,
      "metadata": {
        "id": "twFfTsLd0azm"
      },
      "outputs": [],
      "source": [
        "TOTAL_DATA = tubercolosis"
      ]
    },
    {
      "cell_type": "code",
      "execution_count": null,
      "metadata": {
        "id": "TcLLpe3J0a2a"
      },
      "outputs": [],
      "source": [
        "FEATURE_MATRIX = []\n",
        "TARGET=[]\n",
        "for x,y in TOTAL_DATA:\n",
        "    FEATURE_MATRIX.append(x)\n",
        "    TARGET.append(y)"
      ]
    },
    {
      "cell_type": "code",
      "execution_count": null,
      "metadata": {
        "id": "8EpBeKaK0a4g"
      },
      "outputs": [],
      "source": [
        "X=[]\n",
        "IMG_SIZE= 224\n",
        "for x in FEATURE_MATRIX:\n",
        "    new_array = cv2.resize(x,(IMG_SIZE,IMG_SIZE))\n",
        "    X.append(new_array)"
      ]
    },
    {
      "cell_type": "code",
      "execution_count": null,
      "metadata": {
        "id": "S-hpdwM20a9I"
      },
      "outputs": [],
      "source": [
        "NORMALIZED_X = []\n",
        "for x in X:\n",
        "    tmp = x/255\n",
        "    NORMALIZED_X.append(tmp)"
      ]
    },
    {
      "cell_type": "code",
      "execution_count": null,
      "metadata": {
        "id": "_8aB_nLV0sPj"
      },
      "outputs": [],
      "source": [
        "x_train,x_test,y_train,y_test = train_test_split(NORMALIZED_X,TARGET)"
      ]
    },
    {
      "cell_type": "code",
      "execution_count": null,
      "metadata": {
        "colab": {
          "base_uri": "https://localhost:8080/"
        },
        "id": "UWzIjJuq0sSV",
        "outputId": "a2127066-f9bb-4990-c981-4d41995fe30b"
      },
      "outputs": [
        {
          "name": "stdout",
          "output_type": "stream",
          "text": [
            "(3634, 224, 224)\n",
            "(1212, 224, 224)\n",
            "(3634,)\n",
            "(1212,)\n"
          ]
        }
      ],
      "source": [
        "print(np.array(x_train).shape)\n",
        "print(np.array(x_test).shape)\n",
        "print(np.array(y_train).shape)\n",
        "print(np.array(y_test).shape)"
      ]
    },
    {
      "cell_type": "code",
      "execution_count": null,
      "metadata": {
        "colab": {
          "base_uri": "https://localhost:8080/"
        },
        "id": "cN66NV0h0sVI",
        "outputId": "5a6c808b-f1f2-478a-dc9b-a0093e9ededd"
      },
      "outputs": [
        {
          "name": "stdout",
          "output_type": "stream",
          "text": [
            "224\n",
            "224\n"
          ]
        }
      ],
      "source": [
        "img_rows=x_train[0].shape[0]\n",
        "img_cols=x_train[0].shape[1]\n",
        "print(img_rows)\n",
        "print(img_cols)"
      ]
    },
    {
      "cell_type": "code",
      "execution_count": null,
      "metadata": {
        "id": "R4ak0kk00sXx"
      },
      "outputs": [],
      "source": [
        "x_train = np.array(x_train)\n",
        "x_test = np.array(x_test)"
      ]
    },
    {
      "cell_type": "code",
      "execution_count": null,
      "metadata": {
        "id": "37MG8oNf0saV"
      },
      "outputs": [],
      "source": [
        "##in crease 1 dimension\n",
        "X_train=x_train.reshape(x_train.shape[0],img_rows,img_cols,1)\n",
        "X_test=x_test.reshape(x_test.shape[0],img_rows,img_cols,1)"
      ]
    },
    {
      "cell_type": "code",
      "execution_count": null,
      "metadata": {
        "colab": {
          "base_uri": "https://localhost:8080/"
        },
        "id": "m-Dl-tE-0sdB",
        "outputId": "0ef7f2b6-e79c-4c2e-dc44-baf02dfad75f"
      },
      "outputs": [
        {
          "name": "stdout",
          "output_type": "stream",
          "text": [
            "(3634, 224, 224, 1)\n",
            "(1212, 224, 224, 1)\n",
            "(3634,)\n",
            "(1212,)\n"
          ]
        }
      ],
      "source": [
        "print(np.array(X_train).shape)\n",
        "print(np.array(X_test).shape)\n",
        "print(np.array(y_train).shape)\n",
        "print(np.array(y_test).shape)"
      ]
    },
    {
      "cell_type": "code",
      "execution_count": null,
      "metadata": {
        "id": "MW3DuCjA0sfr"
      },
      "outputs": [],
      "source": [
        "def identity_block(X, f, filters):\n",
        "  #retrive filters\n",
        "  F1, F2, F3 = filters\n",
        "\n",
        "  X_shortcut = X\n",
        "\n",
        "\n",
        "#first layer\n",
        "  X= Conv2D(filters = F1, kernel_size=(1,1), strides = (1,1), padding = 'same')(X)\n",
        "  X= BatchNormalization(axis=3)(X)\n",
        "  X= Activation('relu')(X)\n",
        "\n",
        "  #second layer\n",
        "  X= Conv2D(filters = F2, kernel_size=(f,f), strides = (1,1), padding = 'same')(X)\n",
        "  X= BatchNormalization(axis=3)(X)\n",
        "  X= Activation('relu')(X)\n",
        "\n",
        "  #third layer\n",
        "  X= Conv2D(filters = F3, kernel_size=(1,1),strides = (1,1), padding = 'same')(X)\n",
        "  X= BatchNormalization(axis=3)(X)\n",
        "\n",
        "\n",
        "  #final step: adding shoetcut value to F(x), and pass it through Relu activation\n",
        "  X= Add()([X, X_shortcut])\n",
        "  X= Activation('relu')(X)\n",
        "\n",
        "  return X\n",
        "           \n",
        "  "
      ]
    },
    {
      "cell_type": "code",
      "execution_count": null,
      "metadata": {
        "id": "epBZJrvH08pE"
      },
      "outputs": [],
      "source": [
        "def convolution_block(X, f, filters, s=2):\n",
        "  #retrive filters\n",
        "  F1, F2, F3 = filters\n",
        "#saving the input value\n",
        "  X_shortcut = X\n",
        "\n",
        "#first layer\n",
        "  X= Conv2D(F1, (1,1), strides = (s,s))(X) #1,1 is a filter size\n",
        "  X= BatchNormalization(axis=3)(X)\n",
        "  X= Activation('relu')(X)\n",
        "\n",
        "#second layer (f,f)=3*3 filter by default\n",
        "  X= Conv2D(filters = F2, kernel_size=(f,f), strides = (1,1), padding = 'same')(X)\n",
        "  X= BatchNormalization(axis=3)(X)\n",
        "  X= Activation('relu')(X)\n",
        "\n",
        "#third layer\n",
        "  X= Conv2D(filters = F3, kernel_size=(1,1),strides = (1,1), padding = 'same')(X)\n",
        "  X= BatchNormalization(axis=3)(X)\n",
        "\n",
        "#shortcutpath\n",
        "  X_shortcut= Conv2D(filters = F3, kernel_size=(1,1),strides = (s,s), padding = 'same')(X_shortcut)\n",
        "  X_shortcut= BatchNormalization(axis=3)(X_shortcut)\n",
        "\n",
        "\n",
        "  #final step: adding shoetcut value to F(x), and pass it through Relu activation\n",
        "  X= Add()([X, X_shortcut])\n",
        "  X= Activation('relu')(X)\n",
        "\n",
        "\n",
        "  return X\n",
        "  "
      ]
    },
    {
      "cell_type": "code",
      "execution_count": null,
      "metadata": {
        "id": "ZwXcUjcq08rL"
      },
      "outputs": [],
      "source": [
        "#from keras.engine.input_layer import InputLayer\n",
        "def ResNet50(input_shape=(224,224), classes=2):\n",
        "\n",
        "  \n",
        "  #defining the input with shape input_shape\n",
        "  X_input = Input(input_shape)\n",
        "  #keras.layers.Input(input_shape=(224, 224, 3))\n",
        "  #zero padding\n",
        "  x = ZeroPadding2D((3,3))( X_input) #3,3 padding\n",
        "\n",
        "  #stage1\n",
        "  x= Conv2D(64,(7,7), strides = (2,2))(x) #1,1 is a filter size\n",
        "  x= BatchNormalization(axis=3)(x)\n",
        "  x= Activation('relu')(x)\n",
        "  x= MaxPooling2D((3,3), strides=(2,2))(x)\n",
        "\n",
        "\n",
        "#second layer\n",
        "  x = convolution_block(x, f=3, filters=[64,64,256], s=1)\n",
        "  x = identity_block(x, 3, [64,64,256])\n",
        "  x = identity_block(x, 3, [64,64,256])\n",
        "\n",
        "#third stage\n",
        "  x = convolution_block(x, f=3, filters=[128,128,512], s=2)\n",
        "  x = identity_block(x, 3, [128,128,512])\n",
        "  x = identity_block(x, 3, [128,128,512])  \n",
        "  x = identity_block(x, 3, [128,128,512])\n",
        "\n",
        "#fourth stage\n",
        "  x = convolution_block(x, f=3, filters=[256,256,1024], s=2)\n",
        "  x = identity_block(x, 3, [256,256,1024])\n",
        "  x = identity_block(x, 3, [256,256,1024])  \n",
        "  x = identity_block(x, 3, [256,256,1024])\n",
        "  x = identity_block(x, 3, [256,256,1024])\n",
        "  x = identity_block(x, 3, [256,256,1024])\n",
        "\n",
        "#fifth stage\n",
        "  x = convolution_block(x, f=3, filters=[512,512,2048], s=2)\n",
        "  x = identity_block(x, 3, [512,512,2048])\n",
        "  x = identity_block(x, 3, [512,512,2048])\n",
        "\n",
        "#average pool\n",
        "  x = AveragePooling2D((2,2),name=\"avg_pool\")(x)\n",
        "\n",
        "#output layer\n",
        "  x = Flatten()(x)\n",
        "  x = Dense(classes, activation='softmax',name='fc' + str(classes), kernel_initializer = glorot_uniform(seed=42))(x)\n",
        "\n",
        "#creating a model\n",
        "  model = Model(inputs = X_input, outputs=x, name='ResNet50')\n",
        "\n",
        "  return model\n",
        "\n",
        "\n",
        "\n",
        "\n"
      ]
    },
    {
      "cell_type": "code",
      "execution_count": null,
      "metadata": {
        "id": "2XEtXsVH08tj"
      },
      "outputs": [],
      "source": [
        "model = ResNet50(input_shape=(224,224,1), classes=2)"
      ]
    },
    {
      "cell_type": "code",
      "execution_count": null,
      "metadata": {
        "id": "VnpamKhM08wC"
      },
      "outputs": [],
      "source": [
        "model.compile(optimizer='adam', loss='sparse_categorical_crossentropy', metrics=['accuracy'])"
      ]
    },
    {
      "cell_type": "code",
      "execution_count": null,
      "metadata": {
        "colab": {
          "background_save": true,
          "base_uri": "https://localhost:8080/"
        },
        "id": "YrFCCEiy08yM",
        "outputId": "f0636458-66d7-4b50-ebf7-f9c22285d003"
      },
      "outputs": [
        {
          "name": "stdout",
          "output_type": "stream",
          "text": [
            "Epoch 1/20\n",
            "114/114 [==============================] - 371s 3s/step - loss: 0.7690 - accuracy: 0.8635 - val_loss: 12.3805 - val_accuracy: 0.7748\n",
            "Epoch 2/20\n",
            "114/114 [==============================] - 351s 3s/step - loss: 0.3691 - accuracy: 0.9012 - val_loss: 1.6919 - val_accuracy: 0.3358\n",
            "Epoch 3/20\n",
            "114/114 [==============================] - 356s 3s/step - loss: 0.1201 - accuracy: 0.9549 - val_loss: 2.1788 - val_accuracy: 0.3177\n",
            "Epoch 4/20\n",
            "114/114 [==============================] - 351s 3s/step - loss: 0.1115 - accuracy: 0.9565 - val_loss: 1.2811 - val_accuracy: 0.5074\n",
            "Epoch 5/20\n",
            "114/114 [==============================] - 351s 3s/step - loss: 0.0764 - accuracy: 0.9711 - val_loss: 0.2583 - val_accuracy: 0.9158\n",
            "Epoch 6/20\n",
            "114/114 [==============================] - 348s 3s/step - loss: 0.0746 - accuracy: 0.9711 - val_loss: 0.6419 - val_accuracy: 0.8267\n",
            "Epoch 7/20\n",
            "114/114 [==============================] - 340s 3s/step - loss: 0.0884 - accuracy: 0.9689 - val_loss: 0.4930 - val_accuracy: 0.8622\n",
            "Epoch 8/20\n",
            "114/114 [==============================] - 339s 3s/step - loss: 0.0738 - accuracy: 0.9722 - val_loss: 0.3037 - val_accuracy: 0.8960\n",
            "Epoch 9/20\n",
            "114/114 [==============================] - 349s 3s/step - loss: 0.0810 - accuracy: 0.9689 - val_loss: 0.1401 - val_accuracy: 0.9596\n",
            "Epoch 10/20\n",
            "114/114 [==============================] - 362s 3s/step - loss: 0.0548 - accuracy: 0.9785 - val_loss: 0.1679 - val_accuracy: 0.9612\n",
            "Epoch 11/20\n",
            "114/114 [==============================] - 360s 3s/step - loss: 0.0404 - accuracy: 0.9873 - val_loss: 0.3631 - val_accuracy: 0.8548\n",
            "Epoch 12/20\n",
            "114/114 [==============================] - 352s 3s/step - loss: 0.0358 - accuracy: 0.9857 - val_loss: 0.1171 - val_accuracy: 0.9719\n",
            "Epoch 13/20\n",
            "114/114 [==============================] - 361s 3s/step - loss: 0.0199 - accuracy: 0.9928 - val_loss: 0.0995 - val_accuracy: 0.9695\n",
            "Epoch 14/20\n",
            "114/114 [==============================] - 353s 3s/step - loss: 0.0569 - accuracy: 0.9791 - val_loss: 1.4090 - val_accuracy: 0.7987\n",
            "Epoch 15/20\n",
            "114/114 [==============================] - 351s 3s/step - loss: 0.1042 - accuracy: 0.9626 - val_loss: 3.0786 - val_accuracy: 0.8696\n",
            "Epoch 16/20\n",
            "114/114 [==============================] - 351s 3s/step - loss: 1.3617 - accuracy: 0.8682 - val_loss: 26761.4102 - val_accuracy: 0.3828\n",
            "Epoch 17/20\n",
            "114/114 [==============================] - 351s 3s/step - loss: 0.2121 - accuracy: 0.9265 - val_loss: 2.6701 - val_accuracy: 0.8342\n",
            "Epoch 18/20\n",
            "114/114 [==============================] - 354s 3s/step - loss: 0.1279 - accuracy: 0.9502 - val_loss: 0.1573 - val_accuracy: 0.9332\n",
            "Epoch 19/20\n",
            "114/114 [==============================] - 359s 3s/step - loss: 0.0985 - accuracy: 0.9595 - val_loss: 0.1204 - val_accuracy: 0.9604\n",
            "Epoch 20/20\n",
            "114/114 [==============================] - 380s 3s/step - loss: 0.1149 - accuracy: 0.9579 - val_loss: 0.6255 - val_accuracy: 0.7302\n"
          ]
        },
        {
          "data": {
            "text/plain": [
              "<keras.callbacks.History at 0x7fd701428610>"
            ]
          },
          "execution_count": 44,
          "metadata": {},
          "output_type": "execute_result"
        }
      ],
      "source": [
        "model.fit(np.array(x_train),np.array(y_train), epochs=20,validation_data=(x_test, np.array(y_test)))"
      ]
    },
    {
      "cell_type": "code",
      "execution_count": null,
      "metadata": {
        "colab": {
          "background_save": true
        },
        "id": "wyT8gp3RA0cg"
      },
      "outputs": [],
      "source": [
        "import tensorflow as tf\n",
        "from keras.models import load_model\n",
        "model.save('infected.h5')"
      ]
    },
    {
      "cell_type": "code",
      "execution_count": null,
      "metadata": {
        "colab": {
          "background_save": true
        },
        "id": "mI41sMYN080t"
      },
      "outputs": [],
      "source": [
        "predicted = model.predict(np.array(X_test))"
      ]
    },
    {
      "cell_type": "code",
      "execution_count": null,
      "metadata": {
        "colab": {
          "background_save": true
        },
        "id": "ZPQsZEMJ082_",
        "outputId": "ab083fab-d8a0-48d5-9ee6-090e658d5897"
      },
      "outputs": [
        {
          "data": {
            "text/plain": [
              "array([[1.4767190e-03, 9.9852329e-01],\n",
              "       [3.6967548e-03, 9.9630320e-01],\n",
              "       [4.2420034e-08, 1.0000000e+00],\n",
              "       ...,\n",
              "       [2.4008673e-06, 9.9999762e-01],\n",
              "       [3.3611403e-05, 9.9996638e-01],\n",
              "       [2.6330267e-07, 9.9999976e-01]], dtype=float32)"
            ]
          },
          "execution_count": 26,
          "metadata": {},
          "output_type": "execute_result"
        }
      ],
      "source": [
        "predicted"
      ]
    },
    {
      "cell_type": "code",
      "execution_count": null,
      "metadata": {
        "colab": {
          "background_save": true
        },
        "id": "t1Pyz39J1KYx"
      },
      "outputs": [],
      "source": [
        "result = []\n",
        "for item in predicted:\n",
        "    result.append(np.argmax(item))"
      ]
    },
    {
      "cell_type": "code",
      "execution_count": null,
      "metadata": {
        "colab": {
          "background_save": true
        },
        "id": "3oo6LtOH1KbN",
        "outputId": "be0d164e-c374-4f83-818c-a99d3cb83955"
      },
      "outputs": [
        {
          "name": "stdout",
          "output_type": "stream",
          "text": [
            "[1, 1, 1, 1, 1, 0, 1, 1, 1, 1, 1, 1, 0, 1, 1, 1, 1, 1, 1, 0, 1, 1, 1, 1, 1, 1, 1, 0, 0, 1, 1, 1, 1, 1, 1, 1, 1, 1, 1, 1, 0, 1, 1, 1, 1, 1, 1, 1, 1, 1, 1, 1, 0, 1, 1, 1, 1, 1, 1, 1, 0, 0, 1, 1, 1, 1, 0, 1, 1, 1, 1, 0, 1, 1, 1, 1, 1, 1, 1, 0, 1, 1, 1, 1, 1, 1, 1, 1, 1, 1, 1, 1, 0, 1, 1, 1, 0, 0, 1, 1, 1, 1, 1, 1, 1, 1, 1, 1, 1, 1, 1, 0, 1, 1, 1, 1, 0, 1, 1, 0, 1, 0, 1, 0, 1, 1, 0, 1, 1, 1, 1, 1, 1, 1, 1, 0, 1, 1, 1, 1, 1, 1, 0, 0, 1, 1, 1, 1, 1, 1, 1, 1, 1, 1, 1, 1, 1, 1, 0, 1, 1, 1, 1, 1, 1, 1, 1, 1, 1, 1, 1, 1, 1, 1, 1, 0, 0, 1, 1, 1, 1, 1, 1, 0, 1, 1, 1, 1, 0, 1, 1, 1, 1, 0, 1, 1, 1, 1, 1, 1, 1, 1, 1, 1, 1, 1, 0, 1, 1, 1, 1, 1, 0, 0, 1, 1, 1, 1, 1, 1, 1, 1, 0, 1, 0, 1, 1, 1, 0, 1, 0, 0, 1, 1, 0, 1, 1, 1, 1, 1, 1, 0, 1, 0, 1, 1, 1, 1, 0, 0, 1, 1, 1, 0, 1, 1, 0, 1, 0, 1, 1, 0, 1, 1, 1, 1, 1, 1, 0, 1, 1, 1, 0, 1, 1, 1, 1, 0, 1, 1, 1, 1, 1, 0, 1, 0, 1, 1, 1, 1, 1, 1, 0, 1, 1, 1, 1, 0, 1, 1, 1, 0, 1, 1, 1, 0, 1, 1, 1, 1, 1, 1, 1, 1, 0, 0, 1, 1, 1, 1, 1, 1, 0, 1, 0, 1, 1, 0, 1, 0, 1, 0, 0, 1, 1, 1, 0, 1, 1, 1, 1, 0, 1, 1, 1, 1, 1, 1, 1, 1, 1, 1, 1, 1, 1, 0, 1, 1, 1, 0, 1, 1, 1, 1, 1, 1, 1, 1, 1, 0, 1, 1, 1, 1, 1, 1, 0, 1, 1, 1, 1, 1, 1, 1, 1, 0, 0, 0, 0, 1, 1, 0, 1, 1, 1, 1, 0, 0, 1, 1, 1, 1, 1, 1, 0, 1, 1, 1, 1, 1, 0, 1, 0, 1, 1, 0, 1, 0, 1, 1, 0, 1, 1, 1, 1, 1, 1, 1, 1, 1, 1, 0, 1, 1, 1, 0, 1, 1, 1, 1, 1, 1, 1, 1, 1, 1, 1, 1, 1, 0, 1, 1, 0, 1, 1, 1, 1, 1, 1, 1, 0, 1, 0, 1, 1, 1, 1, 1, 1, 1, 1, 1, 0, 1, 0, 1, 1, 1, 1, 0, 1, 1, 1, 1, 1, 0, 1, 1, 1, 1, 1, 0, 0, 1, 1, 1, 1, 1, 0, 1, 0, 1, 1, 1, 1, 0, 0, 0, 0, 1, 1, 1, 1, 0, 0, 1, 0, 1, 1, 1, 1, 1, 1, 0, 1, 1, 1, 1, 1, 0, 0, 1, 1, 1, 1, 1, 1, 0, 1, 1, 1, 1, 0, 0, 1, 0, 1, 1, 1, 1, 0, 1, 1, 0, 1, 1, 1, 1, 1, 1, 1, 0, 1, 1, 1, 1, 1, 1, 0, 0, 0, 1, 1, 0, 1, 0, 0, 1, 0, 1, 1, 0, 1, 1, 1, 0, 1, 1, 1, 1, 1, 0, 1, 1, 0, 1, 1, 1, 1, 1, 1, 1, 0, 1, 0, 1, 0, 1, 1, 1, 1, 1, 0, 0, 1, 1, 1, 1, 0, 0, 1, 1, 1, 0, 0, 1, 1, 1, 0, 1, 1, 0, 1, 0, 0, 1, 1, 1, 1, 1, 1, 0, 1, 1, 1, 0, 1, 1, 1, 1, 1, 1, 1, 0, 1, 1, 0, 1, 0, 0, 1, 1, 1, 1, 0, 1, 1, 1, 1, 1, 1, 1, 1, 1, 1, 1, 1, 1, 1, 1, 1, 1, 1, 0, 1, 1, 1, 0, 0, 1, 1, 1, 1, 1, 1, 1, 0, 1, 1, 1, 1, 1, 1, 1, 1, 1, 1, 1, 0, 1, 1, 1, 1, 1, 1, 1, 1, 1, 0, 1, 1, 1, 1, 1, 1, 0, 1, 1, 1, 1, 0, 1, 1, 1, 1, 1, 1, 1, 0, 1, 1, 1, 1, 0, 1, 1, 1, 1, 1, 0, 1, 1, 1, 1, 1, 1, 0, 1, 0, 1, 1, 1, 0, 1, 1, 1, 1, 0, 1, 1, 1, 1, 1, 1, 1, 1, 1, 1, 1, 1, 1, 1, 1, 1, 1, 1, 1, 1, 1, 1, 1, 1, 1, 1, 1, 1, 1, 0, 1, 1, 1, 1, 1, 1, 1, 1, 1, 0, 1, 0, 1, 1, 1, 1, 0, 1, 1, 1, 1, 1, 1, 1, 1, 1, 0, 1, 0, 1, 1, 1, 1, 1, 1, 1, 1, 1, 1, 1, 0, 0, 1, 0, 1, 0, 0, 1, 0, 1, 1, 1, 1, 0, 1, 1, 1, 1, 1, 1, 1, 1, 1, 1, 1, 0, 0, 1, 1, 1, 1, 0, 1, 1, 1, 1, 1, 1, 1, 1, 1, 0, 0, 1, 0, 1, 0, 1, 0, 1, 1, 0, 1, 1, 1, 1, 1, 0, 1, 1, 1, 1, 0, 1, 1, 0, 1, 1, 1, 0, 0, 1, 1, 0, 1, 0, 1, 1, 1, 1, 1, 1, 0, 1, 1, 0, 1, 1, 1, 1, 1, 0, 1, 1, 0, 0, 1, 1, 1, 1, 1, 1, 1, 1, 0, 1, 1, 1, 1, 1, 0, 0, 1, 1, 0, 0, 1, 1, 1, 0, 1, 1, 1, 1, 1, 1, 0, 1, 1, 1, 1, 1, 1, 1, 0, 0, 0, 1, 1, 1, 1, 0, 1, 0, 1, 0, 1, 1, 1, 1, 1, 1, 1, 0, 1, 1, 1, 1, 1, 1, 1, 1, 0, 1, 1, 1, 1, 0, 0, 1, 1, 1, 1, 0, 1, 1, 1, 1, 1, 1, 1, 1, 1, 1, 1, 0, 1, 0, 1, 1, 1, 0, 1, 1, 1, 1, 1, 1, 1, 0, 1, 1, 1, 1, 1, 1, 1, 1, 1, 1, 1, 1, 0, 1, 1, 1, 1, 1, 0, 1, 0, 0, 1, 1, 1, 1, 1, 0, 0, 1, 1, 0, 1, 0, 1, 1, 1, 1, 1, 0, 1, 0, 1, 1, 1, 1, 1, 1, 1, 1, 1, 0, 1, 1, 0, 1, 1, 1, 0, 1, 1, 1, 1, 1, 1, 1, 0, 1, 1, 1, 1, 1, 1, 1, 1, 1, 1, 0, 1, 1, 1, 1, 1, 0, 1, 1, 1, 1, 1, 1, 1, 0, 1, 1, 1, 1, 1, 0, 1, 1, 1, 1, 1, 0, 1, 1, 1, 1, 1, 1, 0, 1, 1, 1, 1, 1, 1, 1, 1, 0, 0, 1, 1, 1, 1, 1, 0, 1, 1, 0, 1, 1, 1, 0, 0, 0, 1, 1, 1, 1, 0, 1, 1, 1, 1, 1, 0, 1, 0, 1, 1, 1, 1, 1, 1, 0, 0, 0, 1, 1, 1, 1, 1, 1, 0, 1, 1, 1, 0, 1, 1, 1, 1, 1]\n"
          ]
        }
      ],
      "source": [
        "print(result)"
      ]
    },
    {
      "cell_type": "code",
      "execution_count": null,
      "metadata": {
        "colab": {
          "background_save": true
        },
        "id": "l5EpoK3J1Kdk",
        "outputId": "e74ffb4d-894a-418c-b21d-8bc52317e85d"
      },
      "outputs": [
        {
          "data": {
            "image/png": "[encoded data removed]",
            "text/plain": [
              "<Figure size 432x288 with 2 Axes>"
            ]
          },
          "metadata": {},
          "output_type": "display_data"
        }
      ],
      "source": [
        "from sklearn.metrics import ConfusionMatrixDisplay\n",
        "from sklearn.metrics import confusion_matrix\n",
        "import matplotlib.pyplot as plt\n",
        "cm = confusion_matrix(y_test,result)\n",
        "labels = [\"Healthy\",\"Infected\"]\n",
        "disp = ConfusionMatrixDisplay(confusion_matrix=cm, display_labels=labels)\n",
        "disp.plot(cmap=plt.cm.Blues)\n",
        "plt.show()"
      ]
    }
  ],
  "metadata": {
    "accelerator": "TPU",
    "colab": {
      "background_execution": "on",
      "machine_shape": "hm",
      "provenance": [],
      "authorship_tag": "ABX9TyPjmkeQGEOJxc0j0FprXQk4"
    },
    "gpuClass": "standard",
    "kernelspec": {
      "display_name": "Python 3",
      "name": "python3"
    },
    "language_info": {
      "name": "python"
    }
  },
  "nbformat": 4,
  "nbformat_minor": 0
}