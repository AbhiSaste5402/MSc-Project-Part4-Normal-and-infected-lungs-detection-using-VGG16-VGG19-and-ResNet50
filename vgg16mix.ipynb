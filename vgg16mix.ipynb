{
  "cells": [
    {
      "cell_type": "code",
      "execution_count": null,
      "metadata": {
        "id": "ja_hsWZlu6fA"
      },
      "outputs": [],
      "source": [
        "from __future__ import print_function\n",
        "\n",
        "import numpy as np\n",
        "import warnings\n",
        "\n",
        "from keras.models import Model\n",
        "from keras.layers import Flatten, Dense, Input, Conv2D, MaxPooling2D, GlobalMaxPooling2D, GlobalAveragePooling2D\n",
        "from keras.preprocessing import image\n",
        "from keras.utils import layer_utils\n",
        "from keras.utils.data_utils import get_file\n",
        "from keras import backend as k\n",
        "from keras.applications.imagenet_utils import decode_predictions\n",
        "from keras.applications.imagenet_utils import preprocess_input\n",
        "from keras.applications.imagenet_utils import obtain_input_shape"
      ]
    },
    {
      "cell_type": "code",
      "execution_count": null,
      "metadata": {
        "colab": {
          "base_uri": "https://localhost:8080/"
        },
        "id": "USRGbuzLwOkF",
        "outputId": "f250d758-27e5-442e-ffe9-c46a187b5977"
      },
      "outputs": [
        {
          "name": "stdout",
          "output_type": "stream",
          "text": [
            "Looking in indexes: https://pypi.org/simple, https://us-python.pkg.dev/colab-wheels/public/simple/\n",
            "Requirement already satisfied: keras in /usr/local/lib/python3.7/dist-packages (2.8.0)\n"
          ]
        }
      ],
      "source": [
        "import tensorflow as tf\n",
        "tf.__version__\n",
        "\n",
        "!sudo pip3 install keras"
      ]
    },
    {
      "cell_type": "code",
      "execution_count": null,
      "metadata": {
        "colab": {
          "base_uri": "https://localhost:8080/"
        },
        "id": "YVZDClNWwOmj",
        "outputId": "fb098fce-1c2a-428a-fce8-3763622529bd"
      },
      "outputs": [
        {
          "name": "stdout",
          "output_type": "stream",
          "text": [
            "Mounted at /content/drive/\n"
          ]
        }
      ],
      "source": [
        "from google.colab import drive\n",
        "drive.mount('/content/drive/')"
      ]
    },
    {
      "cell_type": "code",
      "execution_count": null,
      "metadata": {
        "id": "1s60EDtEwOpF"
      },
      "outputs": [],
      "source": [
        "from tensorflow.keras.layers import Layer, InputSpec"
      ]
    },
    {
      "cell_type": "code",
      "execution_count": null,
      "metadata": {
        "id": "XO5viRCdwOr0"
      },
      "outputs": [],
      "source": [
        "def VGGupdated(input_tensor=None, classes=2): \n",
        "    \n",
        "    img_rows, img_cols = 300,300\n",
        "    img_channels = 3 #we are going to work on coloured images\n",
        "    \n",
        "    img_dim = (img_rows, img_cols, img_channels) #224,224,3\n",
        "    \n",
        "    img_input = Input(shape = img_dim) #input from user we want is tis\n",
        "    \n",
        "    \n",
        "    #block1\n",
        "    x = Conv2D(64, (3,3), activation='relu', padding='same', name='block1_conv1')(img_input) #64 filters of 3x3,padding same as we want size of output image ame as input image\n",
        "    x = Conv2D(64, (3,3), activation='relu', padding='same', name='block1_conv2')(x)#relu will replace all the negative values with 0\n",
        "    x = MaxPooling2D((2,2), strides=(2,2), name='block1_pool')(x) #pooling to reduce the image size, strides the window size for scanning\n",
        "    \n",
        "    #block2\n",
        "    x = Conv2D(128, (3,3), activation='relu', padding='same', name='block2_conv1')(x)\n",
        "    x = Conv2D(128, (3,3), activation='relu', padding='same', name='block2_conv2')(x)\n",
        "    x = MaxPooling2D((2,2), strides=(2,2), name='block2_pool')(x) \n",
        "    \n",
        "    #block3\n",
        "    x = Conv2D(256, (3,3), activation='relu', padding='same', name='block3_conv1')(x)\n",
        "    x = Conv2D(256, (3,3), activation='relu', padding='same', name='block3_conv2')(x)\n",
        "    x = Conv2D(256, (3,3), activation='relu', padding='same', name='block3_conv3')(x)\n",
        "    \n",
        "\n",
        "    x = MaxPooling2D((2,2), strides=(2,2), name='block3_pool')(x)\n",
        "    \n",
        "    #block4\n",
        "    x = Conv2D(512, (3,3), activation='relu', padding='same', name='block4_conv1')(x)\n",
        "    x = Conv2D(512, (3,3), activation='relu', padding='same', name='block4_conv2')(x)\n",
        "    x = Conv2D(512, (3,3), activation='relu', padding='same', name='block4_conv3')(x)\n",
        "   \n",
        "\n",
        "    x = MaxPooling2D((2,2), strides=(2,2), name='block4_pool')(x)\n",
        "    \n",
        "    #block5\n",
        "    x = Conv2D(256, (3,3), activation='relu', padding='same', name='block5_conv1')(x)\n",
        "    x = Conv2D(256, (3,3), activation='relu', padding='same', name='block5_conv2')(x)\n",
        "    x = Conv2D(256, (3,3), activation='relu', padding='same', name='block5_conv3')(x)\n",
        "   \n",
        "\n",
        "    x = MaxPooling2D((2,2), strides=(2,2), name='block5_pool')(x)\n",
        "    \n",
        "    #classification block\n",
        "    x = Flatten(name='flatten')(x) #when we need to classify image we ned to flaten it\n",
        "    x = Dense(4096, activation='relu', name='fc1')(x) #4096 nurons\n",
        "    x = Dense(4096, activation='relu', name='fc2')(x)\n",
        "    x = Dense(classes, activation='sigmoid', name='predictions')(x)\n",
        "    \n",
        "    \n",
        "    #create model\n",
        "    model = Model(inputs = img_input, outputs = x, name='vggtuber')\n",
        "    \n",
        "    return model"
      ]
    },
    {
      "cell_type": "code",
      "execution_count": null,
      "metadata": {
        "id": "Gz5p8Jm0whNl"
      },
      "outputs": [],
      "source": [
        "model = VGGupdated(classes = 2)"
      ]
    },
    {
      "cell_type": "code",
      "execution_count": null,
      "metadata": {
        "colab": {
          "base_uri": "https://localhost:8080/"
        },
        "id": "mDNN8ya8wg5O",
        "outputId": "a2e4cd8a-5098-4fda-e3d7-55f44d1b53ee"
      },
      "outputs": [
        {
          "name": "stdout",
          "output_type": "stream",
          "text": [
            "Model: \"vggtuber\"\n",
            "_________________________________________________________________\n",
            " Layer (type)                Output Shape              Param #   \n",
            "=================================================================\n",
            " input_1 (InputLayer)        [(None, 300, 300, 3)]     0         \n",
            "                                                                 \n",
            " block1_conv1 (Conv2D)       (None, 300, 300, 64)      1792      \n",
            "                                                                 \n",
            " block1_conv2 (Conv2D)       (None, 300, 300, 64)      36928     \n",
            "                                                                 \n",
            " block1_pool (MaxPooling2D)  (None, 150, 150, 64)      0         \n",
            "                                                                 \n",
            " block2_conv1 (Conv2D)       (None, 150, 150, 128)     73856     \n",
            "                                                                 \n",
            " block2_conv2 (Conv2D)       (None, 150, 150, 128)     147584    \n",
            "                                                                 \n",
            " block2_pool (MaxPooling2D)  (None, 75, 75, 128)       0         \n",
            "                                                                 \n",
            " block3_conv1 (Conv2D)       (None, 75, 75, 256)       295168    \n",
            "                                                                 \n",
            " block3_conv2 (Conv2D)       (None, 75, 75, 256)       590080    \n",
            "                                                                 \n",
            " block3_conv3 (Conv2D)       (None, 75, 75, 256)       590080    \n",
            "                                                                 \n",
            " block3_pool (MaxPooling2D)  (None, 37, 37, 256)       0         \n",
            "                                                                 \n",
            " block4_conv1 (Conv2D)       (None, 37, 37, 512)       1180160   \n",
            "                                                                 \n",
            " block4_conv2 (Conv2D)       (None, 37, 37, 512)       2359808   \n",
            "                                                                 \n",
            " block4_conv3 (Conv2D)       (None, 37, 37, 512)       2359808   \n",
            "                                                                 \n",
            " block4_pool (MaxPooling2D)  (None, 18, 18, 512)       0         \n",
            "                                                                 \n",
            " block5_conv1 (Conv2D)       (None, 18, 18, 256)       1179904   \n",
            "                                                                 \n",
            " block5_conv2 (Conv2D)       (None, 18, 18, 256)       590080    \n",
            "                                                                 \n",
            " block5_conv3 (Conv2D)       (None, 18, 18, 256)       590080    \n",
            "                                                                 \n",
            " block5_pool (MaxPooling2D)  (None, 9, 9, 256)         0         \n",
            "                                                                 \n",
            " flatten (Flatten)           (None, 20736)             0         \n",
            "                                                                 \n",
            " fc1 (Dense)                 (None, 4096)              84938752  \n",
            "                                                                 \n",
            " fc2 (Dense)                 (None, 4096)              16781312  \n",
            "                                                                 \n",
            " predictions (Dense)         (None, 2)                 8194      \n",
            "                                                                 \n",
            "=================================================================\n",
            "Total params: 111,723,586\n",
            "Trainable params: 111,723,586\n",
            "Non-trainable params: 0\n",
            "_________________________________________________________________\n"
          ]
        }
      ],
      "source": [
        "model.summary()"
      ]
    },
    {
      "cell_type": "code",
      "execution_count": null,
      "metadata": {
        "id": "pZaySBzfwhP_"
      },
      "outputs": [],
      "source": [
        "model.compile(\n",
        "  loss='SparseCategoricalCrossentropy',\n",
        "  optimizer='adam',\n",
        "  metrics=['accuracy']\n",
        ")\n"
      ]
    },
    {
      "cell_type": "code",
      "execution_count": null,
      "metadata": {
        "colab": {
          "base_uri": "https://localhost:8080/"
        },
        "id": "mSJKfRSywhSp",
        "outputId": "a6b6aa9c-4feb-4eb8-a146-2b1518b39271"
      },
      "outputs": [
        {
          "name": "stdout",
          "output_type": "stream",
          "text": [
            "['Infected', 'Normal']\n",
            "types of xray found: 2\n"
          ]
        }
      ],
      "source": [
        "import numpy as np \n",
        "import pandas as pd\n",
        "import matplotlib.pyplot as plt\n",
        "import os\n",
        "\n",
        "dataset_path = os.listdir('/content/drive/MyDrive/customxray') #will give the list of folders in the tuber_images\n",
        "\n",
        "x_ray_types = os.listdir('/content/drive/MyDrive/customxray')\n",
        "print(x_ray_types)# what types of xray are there in dataset\n",
        "\n",
        "print(\"types of xray found:\", len(dataset_path))"
      ]
    },
    {
      "cell_type": "code",
      "execution_count": null,
      "metadata": {
        "colab": {
          "base_uri": "https://localhost:8080/"
        },
        "id": "3iNyNQ38whUw",
        "outputId": "6cad7f36-a945-4adb-9d6f-75dce43ddb6f"
      },
      "outputs": [
        {
          "name": "stderr",
          "output_type": "stream",
          "text": [
            "IOPub data rate exceeded.\n",
            "The notebook server will temporarily stop sending output\n",
            "to the client in order to avoid crashing it.\n",
            "To change this limit, set the config variable\n",
            "`--NotebookApp.iopub_data_rate_limit`.\n",
            "\n",
            "Current values:\n",
            "NotebookApp.iopub_data_rate_limit=1000000.0 (bytes/sec)\n",
            "NotebookApp.rate_limit_window=3.0 (secs)\n",
            "\n"
          ]
        }
      ],
      "source": [
        "rays = []\n",
        "\n",
        "for item in x_ray_types:\n",
        "    all_rays = os.listdir('/content/drive/MyDrive/customxray' + '/' + item)\n",
        "    \n",
        "    \n",
        "    for ray in all_rays:\n",
        "        rays.append((item, str('/content/drive/MyDrive/customxray' + '/' + item) + '/' + ray))\n",
        "        print(rays)"
      ]
    },
    {
      "cell_type": "code",
      "execution_count": null,
      "metadata": {
        "colab": {
          "base_uri": "https://localhost:8080/"
        },
        "id": "zQKRPSRrwhXY",
        "outputId": "57f43cec-067a-4513-8db8-c435ab09e448"
      },
      "outputs": [
        {
          "name": "stdout",
          "output_type": "stream",
          "text": [
            "  x_ray types                                              image\n",
            "0    Infected  /content/drive/MyDrive/customxray/Infected/per...\n",
            "1    Infected  /content/drive/MyDrive/customxray/Infected/per...\n",
            "2    Infected  /content/drive/MyDrive/customxray/Infected/per...\n",
            "3    Infected  /content/drive/MyDrive/customxray/Infected/per...\n",
            "4    Infected  /content/drive/MyDrive/customxray/Infected/per...\n"
          ]
        }
      ],
      "source": [
        "rooms_df = pd.DataFrame(data=rays, columns=['x_ray types', 'image'])\n",
        "print(rooms_df.head())"
      ]
    },
    {
      "cell_type": "code",
      "execution_count": null,
      "metadata": {
        "colab": {
          "base_uri": "https://localhost:8080/"
        },
        "id": "4oj0KnolwhZl",
        "outputId": "ccfc0389-c391-455f-e6e3-be5e03992d68"
      },
      "outputs": [
        {
          "name": "stdout",
          "output_type": "stream",
          "text": [
            "Total number of images in dataset:  4846\n",
            "xrays in each category: \n",
            "Normal      3734\n",
            "Infected    1112\n",
            "Name: x_ray types, dtype: int64\n"
          ]
        }
      ],
      "source": [
        "print(\"Total number of images in dataset: \", len(rooms_df))\n",
        "\n",
        "room_count = rooms_df['x_ray types'].value_counts()\n",
        "\n",
        "print(\"xrays in each category: \")\n",
        "print(room_count)"
      ]
    },
    {
      "cell_type": "code",
      "execution_count": null,
      "metadata": {
        "id": "PY1vYeatwyEs"
      },
      "outputs": [],
      "source": [
        "import cv2\n",
        "path = '/content/drive/MyDrive/customxray/'\n",
        "\n",
        "im_size=300\n",
        "\n",
        "images = []\n",
        "labels=[]\n",
        "\n",
        "for i in x_ray_types:\n",
        "    data_path = path +str(i)\n",
        "    filenames = [i for i in os.listdir(data_path)]\n",
        "    \n",
        "    for f in filenames:\n",
        "        img = cv2.imread(data_path + '/' + f)\n",
        "        img = cv2.resize(img, (im_size, im_size))\n",
        "        images.append(img)\n",
        "        labels.append(i)"
      ]
    },
    {
      "cell_type": "code",
      "execution_count": null,
      "metadata": {
        "colab": {
          "base_uri": "https://localhost:8080/"
        },
        "id": "XM_BNYJBwyHP",
        "outputId": "fb95f6b6-dddf-4de4-992b-917d1b4b505d"
      },
      "outputs": [
        {
          "data": {
            "text/plain": [
              "(4846, 300, 300, 3)"
            ]
          },
          "execution_count": 15,
          "metadata": {},
          "output_type": "execute_result"
        }
      ],
      "source": [
        "images = np.array(images)\n",
        "\n",
        "images = images.astype('float32')/255.0\n",
        "images.shape"
      ]
    },
    {
      "cell_type": "code",
      "execution_count": null,
      "metadata": {
        "colab": {
          "base_uri": "https://localhost:8080/"
        },
        "id": "R3D9_8cmwyKL",
        "outputId": "d3891ae8-89a3-4ee5-e1a8-4ff1edca8d09"
      },
      "outputs": [
        {
          "name": "stdout",
          "output_type": "stream",
          "text": [
            "[0 0 0 ... 1 1 1]\n"
          ]
        }
      ],
      "source": [
        "from sklearn.preprocessing import LabelEncoder, OneHotEncoder\n",
        "y=rooms_df['x_ray types'].values\n",
        "\n",
        "y_labelencoder = LabelEncoder()\n",
        "y= y_labelencoder.fit_transform (y)\n",
        "print(y)"
      ]
    },
    {
      "cell_type": "code",
      "execution_count": null,
      "metadata": {
        "colab": {
          "base_uri": "https://localhost:8080/"
        },
        "id": "KXs_GikxwyNO",
        "outputId": "ee9771e5-5c68-4b7f-c4fd-89438fd05557"
      },
      "outputs": [
        {
          "name": "stdout",
          "output_type": "stream",
          "text": [
            "(4749, 300, 300, 3)\n",
            "(4749,)\n",
            "(97, 300, 300, 3)\n",
            "(97,)\n"
          ]
        }
      ],
      "source": [
        "from sklearn.utils import shuffle\n",
        "from sklearn.model_selection import train_test_split\n",
        "\n",
        "y = shuffle(y, random_state=1)\n",
        "train_x, test_x, train_y, test_y = train_test_split( images, y, test_size=0.02, random_state=415)\n",
        "\n",
        "print(train_x.shape)\n",
        "print(train_y.shape)\n",
        "print(test_x.shape)\n",
        "print(test_y.shape)"
      ]
    },
    {
      "cell_type": "code",
      "execution_count": null,
      "metadata": {
        "colab": {
          "background_save": true,
          "base_uri": "https://localhost:8080/"
        },
        "id": "f0hWbSiUwyPp",
        "outputId": "4f33b2f3-f9ae-47f6-9610-8cae3f5b573d"
      },
      "outputs": [
        {
          "name": "stdout",
          "output_type": "stream",
          "text": [
            "Epoch 1/20\n",
            "149/149 [==============================] - 1342s 9s/step - loss: 0.6061 - accuracy: 0.7705\n",
            "Epoch 2/20\n",
            "149/149 [==============================] - 1366s 9s/step - loss: 0.5391 - accuracy: 0.7709\n",
            "Epoch 3/20\n",
            "149/149 [==============================] - 1369s 9s/step - loss: 0.5393 - accuracy: 0.7709\n",
            "Epoch 4/20\n",
            "149/149 [==============================] - 1370s 9s/step - loss: 0.5391 - accuracy: 0.7709\n",
            "Epoch 5/20\n",
            "149/149 [==============================] - 1398s 9s/step - loss: 0.5403 - accuracy: 0.7709\n",
            "Epoch 6/20\n",
            "149/149 [==============================] - 1416s 10s/step - loss: 0.5393 - accuracy: 0.7709\n",
            "Epoch 7/20\n",
            "149/149 [==============================] - 1415s 9s/step - loss: 0.5388 - accuracy: 0.7709\n",
            "Epoch 8/20\n",
            "149/149 [==============================] - 1381s 9s/step - loss: 0.5394 - accuracy: 0.7709\n",
            "Epoch 9/20\n",
            "149/149 [==============================] - 1349s 9s/step - loss: 0.5390 - accuracy: 0.7709\n",
            "Epoch 10/20\n",
            "149/149 [==============================] - 1338s 9s/step - loss: 0.5397 - accuracy: 0.7709\n",
            "Epoch 11/20\n",
            "149/149 [==============================] - 1334s 9s/step - loss: 0.5392 - accuracy: 0.7709\n",
            "Epoch 12/20\n",
            "149/149 [==============================] - 1342s 9s/step - loss: 0.5387 - accuracy: 0.7709\n",
            "Epoch 13/20\n",
            "149/149 [==============================] - 1355s 9s/step - loss: 0.5396 - accuracy: 0.7709\n",
            "Epoch 14/20\n",
            "149/149 [==============================] - 1351s 9s/step - loss: 0.5392 - accuracy: 0.7709\n",
            "Epoch 15/20\n",
            "149/149 [==============================] - 1356s 9s/step - loss: 0.5397 - accuracy: 0.7709\n",
            "Epoch 16/20\n",
            "149/149 [==============================] - 1359s 9s/step - loss: 0.5397 - accuracy: 0.7709\n",
            "Epoch 17/20\n",
            "149/149 [==============================] - 1348s 9s/step - loss: 0.5389 - accuracy: 0.7709\n",
            "Epoch 18/20\n",
            "149/149 [==============================] - 1358s 9s/step - loss: 0.5394 - accuracy: 0.7709\n",
            "Epoch 19/20\n",
            "149/149 [==============================] - 1368s 9s/step - loss: 0.5401 - accuracy: 0.7709\n",
            "Epoch 20/20\n",
            "149/149 [==============================] - 1369s 9s/step - loss: 0.5408 - accuracy: 0.7709\n"
          ]
        },
        {
          "data": {
            "text/plain": [
              "<keras.callbacks.History at 0x7f59e3588e50>"
            ]
          },
          "execution_count": null,
          "metadata": {},
          "output_type": "execute_result"
        }
      ],
      "source": [
        "model.fit(train_x, train_y, epochs = 20, batch_size=32)"
      ]
    }
  ],
  "metadata": {
    "accelerator": "TPU",
    "colab": {
      "background_execution": "on",
      "machine_shape": "hm",
      "provenance": [],
      "authorship_tag": "ABX9TyO9hn/Sy7qWnBSacKKnbG+U"
    },
    "gpuClass": "standard",
    "kernelspec": {
      "display_name": "Python 3",
      "name": "python3"
    },
    "language_info": {
      "name": "python"
    }
  },
  "nbformat": 4,
  "nbformat_minor": 0
}